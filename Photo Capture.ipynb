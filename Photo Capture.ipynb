{
 "nbformat": 4,
 "nbformat_minor": 2,
 "metadata": {
  "language_info": {
   "name": "python",
   "codemirror_mode": {
    "name": "ipython",
    "version": 3
   }
  },
  "orig_nbformat": 2,
  "file_extension": ".py",
  "mimetype": "text/x-python",
  "name": "python",
  "npconvert_exporter": "python",
  "pygments_lexer": "ipython3",
  "version": 3
 },
 "cells": [
  {
   "cell_type": "code",
   "execution_count": null,
   "metadata": {},
   "outputs": [],
   "source": [
    "import numpy as np\n",
    "import cv2\n",
    "\n",
    "cap = cv2.VideoCapture(0)\n",
    "\n",
    "while(cap.isOpened()):\n",
    "    ret, frame = cap.read()\n",
    "    frame_copy=frame.copy()\n",
    "    cv2.circle(frame_copy,(350,200), 140, (0,255,0), 2)\n",
    "    font = cv2.FONT_HERSHEY_SIMPLEX\n",
    "    cv2.putText(frame_copy,'Place your face within this circle',(80,400), font, 1,(255,0,255),2,cv2.LINE_AA)\n",
    "    cv2.imshow('frame',frame_copy)\n",
    "    if cv2.waitKey(1) & 0xFF == ord('c'):\n",
    "        break\n",
    "cv2.imwrite(\"frame.jpg\",frame[200-140:200+140,350-140:350+140,:])\n",
    "cap.release()\n",
    "cv2.destroyAllWindows()"
   ]
  }
 ]
}