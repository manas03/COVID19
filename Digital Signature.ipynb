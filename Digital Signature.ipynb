{
 "nbformat": 4,
 "nbformat_minor": 2,
 "metadata": {
  "language_info": {
   "name": "python",
   "codemirror_mode": {
    "name": "ipython",
    "version": 3
   },
   "version": "3.7.4-final"
  },
  "orig_nbformat": 2,
  "file_extension": ".py",
  "mimetype": "text/x-python",
  "name": "python",
  "npconvert_exporter": "python",
  "pygments_lexer": "ipython3",
  "version": 3,
  "kernelspec": {
   "name": "python3",
   "display_name": "Python 3"
  }
 },
 "cells": [
  {
   "cell_type": "code",
   "execution_count": 24,
   "metadata": {},
   "outputs": [],
   "source": [
    "import numpy as np\n",
    "import cv2\n",
    "canvas=np.ones((300,500,3),\"uint8\")*255\n",
    "color=[0,255,0]\n",
    "pressed=False\n",
    "def click(event,x,y,flags,param):\n",
    "    global canvas,pressed\n",
    "    if event==cv2.EVENT_LBUTTONDOWN:\n",
    "        cv2.circle(canvas,(x,y),5,color,1)\n",
    "        pressed=True\n",
    "    if event==cv2.EVENT_MOUSEMOVE and pressed==True:\n",
    "        cv2.circle(canvas,(x,y),5,color,-1)\n",
    "    if event==cv2.EVENT_LBUTTONUP:\n",
    "        pressed=False  \n",
    "cv2.namedWindow(\"canvas\")        \n",
    "cv2.setMouseCallback(\"canvas\",click)\n",
    "while(True): \n",
    "    cv2.line(canvas,pt1=(0,200),pt2=(500,200),color=(102, 255, 255),                     thickness=2)\n",
    "    font = cv2.FONT_HERSHEY_SIMPLEX\n",
    "    #cv2.putText(canvas,text='S:save B:blue G:green R:red P:pink A:all black E:erase',    org=(1002200) fontFace=font,fontScale=16,color=(255,255,0),                          thickness=1,lineType=cv2.LINE_AA)\n",
    "    cv2.putText(canvas,text='S:save B:blue G:green R:red P:pink D:black E:erase',        org=(5,250), fontFace=font,fontScale= .6,color=(255,255,0),thickness=1,              lineType=cv2.LINE_AA)\n",
    "    cv2.imshow(\"canvas\",canvas)\n",
    "    k=cv2.waitKey(1)\n",
    "    if k & 0xFF == ord(\"s\"):\n",
    "        break\n",
    "    elif k==ord(\"b\"):\n",
    "        color=[255,0,0]\n",
    "    elif k==ord(\"g\"):\n",
    "        color=[0,255,0]\n",
    "    elif k==ord(\"r\"): \n",
    "        color=[0,0,255]\n",
    "    elif k==ord(\"p\"):\n",
    "        color=[255,0,255]\n",
    "    elif k==ord(\"d\"):\n",
    "        canvas[:]=0\n",
    "    elif k==ord(\"e\"):\n",
    "        canvas[:]=255\n",
    "cv2.imwrite(\"signature.jpeg\",canvas[0:198,0:500])        \n",
    "cv2.destroyAllWindows()"
   ]
  }
 ]
}